{
  "nbformat": 4,
  "nbformat_minor": 0,
  "metadata": {
    "colab": {
      "name": "Untitled3.ipynb",
      "provenance": []
    },
    "kernelspec": {
      "name": "python3",
      "display_name": "Python 3"
    }
  },
  "cells": [
    {
      "cell_type": "code",
      "metadata": {
        "colab": {
          "base_uri": "https://localhost:8080/"
        },
        "id": "bUVkUcs-wPZn",
        "outputId": "41342be5-ff48-42b7-c1a8-d7db184b0c47"
      },
      "source": [
        "counter = {}\r\n",
        "def count(L):\r\n",
        "  if isinstance(L,str):\r\n",
        "      if L in counter:\r\n",
        "        counter[L] += 1\r\n",
        "      else:\r\n",
        "        counter[L] = 1\r\n",
        "  \r\n",
        "  else:\r\n",
        "    for element in L:\r\n",
        "      count(element)\r\n",
        "  \r\n",
        "    \r\n",
        "#count([[\"a\",\"b\",\"a\"],[\"c\",[\"d\",\"e\"],\"e\",\"d\"],\"a\",\"b\",[\"c\",\"e\",(\"f\",\"a\")]])\r\n",
        "#print(counter)\r\n",
        "\r\n"
      ],
      "execution_count": 2,
      "outputs": [
        {
          "output_type": "stream",
          "text": [
            "{'a': 4, 'b': 2, 'c': 2, 'd': 2, 'e': 3, 'f': 1}\n"
          ],
          "name": "stdout"
        }
      ]
    }
  ]
}